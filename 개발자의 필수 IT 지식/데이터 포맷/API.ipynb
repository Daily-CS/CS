{
 "cells": [
  {
   "cell_type": "markdown",
   "source": [
    "# API\n",
    "\n",
    "## API의 의미\n",
    "\n",
    ">API는 둘 이상의 컴푸터 프로그램이 서로 통신하는 방법이자 컴퓨터 사이에 있는 중계 계층을 의미합나디.\n",
    "<br> 예를 들어, A라는 컴퓨터가 요청을 하고 B라는 컴퓨터가 응답을 한다고 했을 때의 어떻게 통신할 것인지, 어떠한 데이터를 주고 받을 건지 등에 대한 방법이 정의된 중계계층입니다.\n",
    "\n",
    "<br>\n",
    "\n",
    "API는 과거부터 발전된 용어로 라이브러리 및 프레임워크를 설명하는  명세서, 웹상에서 WEB API, Web Socket API 등을 가리키는데 현재를 기준으로 API라고 할 때 보통 API 기준으로 설명됩니다.\n",
    "\n",
    "**API구조**\n",
    "\n",
    "*사용자가 브라우저를 통해서 서버에 요총을 하게 되면 API가 중계계층역할을 하며 요청을 처리하는 것을 볼 수 있고, 직접 서버의 데이터베이스에 접근하는 것을 방지하기도 하는 것을 볼 수 있다.*\n",
    "\n",
    "- Web app in broswer\n",
    "- Internet\n",
    "- API\n",
    "- Web Server\n",
    "- Database\n"
   ],
   "metadata": {
    "collapsed": false
   }
  },
  {
   "cell_type": "markdown",
   "source": [
    "## API의 장점\n",
    "\n",
    "1. 제공자는 서비스의 중요한 부분을 드러내지 않아도 되고,DB 설계 구조나 드러내고 싶지 않은 데이터베이스의 테이블 정보, 서버의 상수값 등을 드러내지 않고 드러내고 싶은 부분만을 드러낼 수 있습니다.\n",
    "\n",
    "2. 사용자는 해당 서비스가 어떻게 구현되는지 알 필요없이 필요한 정보만을 받을 수 있습니다.\n",
    "\n",
    "3. OPEN API의 경우 앱 개발 프로세스를 단순화시키고 시간과 비용을 절약할 수 있습니다.\n",
    "\n",
    "4. 제공자의 경우 API를 만들게 되면 내부 프로세스가 수정되어서 매번 수정하는 것이 아니라 API가 수정이 안되게끔 만들어서 내부가 변경이 되어도 사용자에게 영향을 주지 않고 변경이 가능합니다.\n",
    "\n",
    "5. 제공자는 데이터를 한곳에 모을 수 있고, 사이트 데이터베이스 기준으로 말하면, 해당 사이트에 방문하는 방문자, 어떤 특정한 것을 클릭하는 사용자에 대한 이벤트를 집계하고 싶을 때 해당 API를 만들고 해당 이벤트가 발생하면 해당 API를 호출하게 만들면 해당 데이터를 한 곳에 모을 수 있다.\n",
    "\n",
    "6. 제공자의 경우, API를 이용해서 제3자가 만들어낸 앱을 통해서 데이터를 수집할 수도 있고, 해당 서비스를 확장해 나갈 수 잇으면 홍보에도 도움이 됩니다."
   ],
   "metadata": {
    "collapsed": false
   }
  },
  {
   "cell_type": "markdown",
   "source": [
    "## API의 종류\n",
    "\n",
    "- private: 내부적으로 사용되고, 주로 해시키를 하드코딩해놓고 이를 기반으로 서버와 서버간의 통신을 해시키를 공유해서 통신합니다.\n",
    "\n",
    "- public: 모든 사람이 사용할 수 있고, 많은 트래픽을 방지하기 위해서 하루 요청수의 제한, 계정당 몇 개등으로 관리합니다."
   ],
   "metadata": {
    "collapsed": false
   }
  },
  {
   "cell_type": "code",
   "execution_count": null,
   "outputs": [],
   "source": [],
   "metadata": {
    "collapsed": false
   }
  }
 ],
 "metadata": {
  "kernelspec": {
   "display_name": "Python 3",
   "language": "python",
   "name": "python3"
  },
  "language_info": {
   "codemirror_mode": {
    "name": "ipython",
    "version": 2
   },
   "file_extension": ".py",
   "mimetype": "text/x-python",
   "name": "python",
   "nbconvert_exporter": "python",
   "pygments_lexer": "ipython2",
   "version": "2.7.6"
  }
 },
 "nbformat": 4,
 "nbformat_minor": 0
}
