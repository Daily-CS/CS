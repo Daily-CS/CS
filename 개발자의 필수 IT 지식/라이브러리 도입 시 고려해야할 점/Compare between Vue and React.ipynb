{
 "cells": [
  {
   "cell_type": "markdown",
   "source": [
    "# 라이브러리 도입 시 고려해야할 점: Vue.js와 React.js의 비교\n",
    "\n",
    "라이브러리든 프레임워크든 기술을 도입할 땐 항상 고민해야하고, 화면을 표출하는 뷰라는 기능에 대해서 이야기를 하려고 합니다.\n",
    "대표적으로 Vue.js와 React.js입니다.\n",
    "\n",
    ">고민해야할 부분은 특징, 자유도, 타플러그인 의존도, 러닝커브, 성능, DOC, 커뮤니티, 모바일로의 확장성, 팀원들의 역량\n",
    "\n",
    "<br>\n",
    "\n",
    "**특징**\n",
    "\n",
    "\n",
    "|Vue.js|React.js|\n",
    "|----|------|\n",
    "|반응형|함수형|\n",
    "|watch,computed가 있으면 값 대입만으로 값을 수정 가능|immutable, setState(함수를 통해서 값을 바꿀 수 있음) mapStatetoProps, pureComponent)|\n",
    "|양방향 바인딩, html|단방향 바인딩,JSX|\n",
    "\n",
    "<br>\n",
    "\n",
    "**데이터 바인딩**\n",
    "\n",
    "화면에 보이는 데이터와 브라우저 메모리사으이 데이터가 일치하게 만드는 것으로 양방향 바인딩과 단방향 바인딩이 있습니다.\n",
    "\n",
    "데이터가 변했을 때 뷰에 반영되는 것은 둘 다 동일하지만, 뷰에서 이벤트가 일어났을 때 양방향 바인딩은 바로 반영되지만 단방향 바인딩은 따로 해줘야합니다.\n",
    "\n",
    "<br>\n",
    "\n",
    "**자유도, 타플러그인 의존도, DOC, 러닝커브 비교**\n",
    "\n",
    "\n",
    "| | Vue.js     | React.js |\n",
    "|----|------------|---------|\n",
    "|자유도| 닞음         | 높음 |\n",
    "|의존도| 낮음         | 높음 |\n",
    "|DOC| 쉬움         | 보통|\n",
    "|러닝커브| 낮음         | 보통|"
   ],
   "metadata": {
    "collapsed": false
   }
  },
  {
   "cell_type": "code",
   "execution_count": null,
   "outputs": [],
   "source": [],
   "metadata": {
    "collapsed": false
   }
  }
 ],
 "metadata": {
  "kernelspec": {
   "display_name": "Python 3",
   "language": "python",
   "name": "python3"
  },
  "language_info": {
   "codemirror_mode": {
    "name": "ipython",
    "version": 2
   },
   "file_extension": ".py",
   "mimetype": "text/x-python",
   "name": "python",
   "nbconvert_exporter": "python",
   "pygments_lexer": "ipython2",
   "version": "2.7.6"
  }
 },
 "nbformat": 4,
 "nbformat_minor": 0
}
