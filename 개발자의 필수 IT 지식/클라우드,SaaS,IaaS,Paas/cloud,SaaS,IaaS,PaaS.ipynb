{
 "cells": [
  {
   "cell_type": "markdown",
   "source": [
    "# 클라우드,  SaaS, IaaS, PaaS\n",
    "\n",
    "## 클라우드\n",
    "\n",
    ">클라우드는 인터넷을 통해서 접근할 수 있는 서버와 그 안에서 구동되는 소프트 웨어,데이터에비스등을 의미합니다.\n",
    "\n",
    "**오프프레미스**\n",
    "\n",
    ">나의 컴퓨터 장비를 사용하지 않고 컴퓨터 장비를 구축해 해야할 작업을 온라인에 분산되어 존재하는 데이터 센터(Data Center, 이하 클라우드)에 맡겨 수행하는 것을 말합니다.['IDC, 인터넷 데이터 센터'] <br>\n",
    "이러면 서버를 직접 구매할 때 고려해야할 전력, 위치, 서버 세팅, 확장성을 고민하지 않고 서비스 운영에만 집중할 수 있는 상태입니다. (대표적인 예: 네이버 데이터센터, 춘천)  <br>\n",
    "여담으로, 춘천 센터의 큰 장점은 프리쿨링(서버실 온도를 조절하기 위한 냉각수를 전기가 아닌 외부 찬 공기를 이용)하는 방식을 최대 6개월까지 가능하도록 구축되었다.\n",
    "\n",
    "<br>\n",
    "\n",
    "**온프레미스(on-premise)방식**\n",
    "\n",
    ">네이버 IDC처럼 기업이나 개인이 자체 시설에서 보유하고 직접 유지 관리하는 프라이빗 데이터 센터로 Applicatoin, Data, Runtime, Middleware, O/S, Virtualization, Servers, Storage, Networking 모두를 managing할 수 있다.\n",
    "\n",
    "<br>\n",
    "\n",
    "## SaaS(Software as a Service)\n",
    "\n",
    ">인터넷을 통해 소프트웨어를 제공하는 방법으로 구글드라이브 ,N드라이브, 구글 Docs등이 있고, 보통 다른 컴퓨터에서도 쉽게 작업이 가능하고 다른 사람과의 실시간 공유 작업이 가능하다.\n",
    "\n",
    "<br>\n",
    "\n",
    "## IaaS(Infrastructure-as-a-Service)\n",
    "\n",
    ">인프라(서버,저장소)를 제공하고 빈방을 주는 것으로 가상 머신 위에서 애플리케이션의 각 컴포넌트가 구동이 되어서 특정 클라우드에 종속되지 않고 운영비가 상승하여서 이식성이 좋고 AWS의 EC2, NCP등이 있다.\n",
    "\n",
    "가상머신이랑 가상 컴퓨터, 컴퓨터 시스템을 가상현실화(애뮬레이션)하는 소프트웨어를 말합니다.\n",
    "\n",
    "<br>\n",
    "\n",
    "## Pass(Platform-as-a-Service)\n",
    "\n",
    ">플랫폼을 제공하는 서비스로 운영비는 절감할 수 있고, 모니터링, CI/CD가 제공되지만 IaaS보다 유연하지 않고 플랫폼에 종속되게 되어있습니다. 대표적인 예는 heroku입니다.\n",
    "\n",
    "그러나, 하나의 서버에 직접 Node.js MongoDB를 설치할 수 있는 것이 아니므로(Iaas는 가능) Node.js 클라우드 서비스를 따로 설치해야 하므로 마이그레이션, 원래의 서비스를 기반으로 이전할 때 너무나 힘들고 애플리케이션의 각 컴포넌트를 하나씩 클라우드에서 제공하는 서비스로 옮겨야 하므로 이전이 쉽지 않고 특정 클라우드 서비스에 종속되게 됩니다.\n",
    "\n",
    "<br>\n",
    "\n",
    "### Pass와 IaaS 비교\n",
    "\n",
    "**PasS**\n",
    "\n",
    "- 유연하지 않고 플랫폼에 종속됩니다.\n",
    "- 이식성이 낮지만 운영비 효율이 좋다.\n",
    "\n",
    "<br>\n",
    "\n",
    "**IaaS**\n",
    "\n",
    "- 유연하기에 플랫폼에 종속되지 않습니다.\n",
    "- 이식성이 높지만 운영비 효율이 낮다."
   ],
   "metadata": {
    "collapsed": false
   }
  },
  {
   "cell_type": "code",
   "execution_count": null,
   "outputs": [],
   "source": [],
   "metadata": {
    "collapsed": false
   }
  }
 ],
 "metadata": {
  "kernelspec": {
   "display_name": "Python 3",
   "language": "python",
   "name": "python3"
  },
  "language_info": {
   "codemirror_mode": {
    "name": "ipython",
    "version": 2
   },
   "file_extension": ".py",
   "mimetype": "text/x-python",
   "name": "python",
   "nbconvert_exporter": "python",
   "pygments_lexer": "ipython2",
   "version": "2.7.6"
  }
 },
 "nbformat": 4,
 "nbformat_minor": 0
}
