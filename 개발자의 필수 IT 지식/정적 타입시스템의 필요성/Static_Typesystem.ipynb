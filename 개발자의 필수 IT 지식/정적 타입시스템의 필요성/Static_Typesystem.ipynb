{
 "cells": [
  {
   "cell_type": "markdown",
   "source": [
    "이# 정적 타입시스템의 필요성\n",
    "\n",
    ">개발자는 사용자에게 안정적으로 알맞은 컨텐츠를 서빙하기 위해 여러가지 방법을 쓰고, 서버의 트래픽이 증가하더라도 서버가 다운되지 않게 네트워크 장비에 로드밸랜서를 두거나 대역폭을 늘리거나 HA를 하거나 DB샤딩을 하는 등 여러 가지 방법으로 서비스의 안정성을 추구하는 것이고, 이 중 하나의 방법이 바로 정적 타입시스템입니다.\n",
    "\n",
    "<br>\n",
    "\n",
    "## 타입시스템이란\n",
    "\n",
    "정적 시스템 전에 먼저 알아볼 개념은 타입시스템입니다.\n",
    "\n",
    "이는, 언어의 기본 타입 혹은 개발자가 정의한 타입을 기반으로 해당 타입을 언어와 연관시키는 메커니즘으로 타입 동등, 타입 호환, 타입 추론에 대한 규칙을 지키는 것을 말합니다.\n",
    "\n",
    "- 동등: 두 타입이 동일할 때 적용되는 규칙(int=int)\n",
    "- 호환: 두 가지 타입이 정확히 일치하지 않더라도 어느정도 호환이 되는지를 나타내는 규칙(any:=int)\n",
    "- 추론: 타입이 정의되어있지 않지만 주변 문맥에 따라 타입이 결정되는 규칙(a=3, a는 int)\n",
    "\n",
    "<br>\n",
    "\n",
    "**모든 언어는 이러한 타입시스템을 가지고 있으며 동적 타입과 정적 타입으로 나눠집니다.**\n",
    "\n",
    "- 통적 타입: 런타임에 모든 변수의 유형을 결정하고 잘못된 겨웅 예외가 발생(PHP, JS, Python)\n",
    "- 정적 타입: 컴파일 타임에 모든 변수의 유형을 결정하고 잘못된 경우 예외가 발생(C, C++, JAVA)\n",
    "\n",
    "<br>\n",
    "\n",
    "정적 타입을 정적타입시스템이라고 할 수 있는데 동적타입의 언어를 정적 타입의 언어의 특징들을 부여해서 시스템의 안정성을 높입니다.\n",
    "\n",
    "예를 들어, 자바스크립트의 경우 타입스크립트의 등장, 파이썬의 경우 3.5버전부터 등장한 타입어노테이션입니다.\n",
    "\n"
   ],
   "metadata": {
    "collapsed": false
   }
  },
  {
   "cell_type": "code",
   "execution_count": null,
   "outputs": [],
   "source": [
    "#Typescript\n",
    "\"\"\"\n",
    "interface MyType{\n",
    "    name: string;\n",
    "}\n",
    "\n",
    "const testFunc = <T extends MyType | string>(\n",
    "    what: T\n",
    "): T extends MyType ? MyType : string => {\n",
    "  if (typeof what ==='object') {\n",
    "    return what['name'];\n",
    "  }\n",
    "  return what;\n",
    "};\n",
    "\n",
    "\"\"\""
   ],
   "metadata": {
    "collapsed": false
   }
  },
  {
   "cell_type": "code",
   "execution_count": null,
   "outputs": [],
   "source": [
    "#Python type annotation\n",
    "\n",
    "from typing import List\n",
    "def should_use(annotations: List[str]) -> bool:\n",
    "    print(\"They're awesome!\")\n",
    "    return True"
   ],
   "metadata": {
    "collapsed": false,
    "pycharm": {
     "is_executing": true
    }
   }
  },
  {
   "cell_type": "markdown",
   "source": [
    ">정적 타입의 언어처럼 타입을 명시해서 만드는 것으로 추가적으로 정적테스팅까지 써서 마치 정적 타입의 언어처럼 만드는 것이 동적타입 언어, 느슨한 타입의 언어에 정적타입시스템을 부여하는 것입니다."
   ],
   "metadata": {
    "collapsed": false
   }
  },
  {
   "cell_type": "markdown",
   "source": [
    "## 정적 타입시스템의 필요성\n",
    "\n",
    "**가독성을 높이고 타입에 대한 에러를 미리 방지할 수 있다.**\n",
    "\n",
    "1. 타입을 명시해서 나중에 다른 개발자가 보더라도 어떠한 매개변수를 넣고 이 함수가 어떠한 값을 반환하는지 명시적으로 파악할 수 있게 한다.\n",
    "2. 어떠한 함수, 또는 API에 대한 여러가지의 타입으로 이뤄진 값이 발생될 수 있는데 해당 값들에 대한 대처를 미리 할 수 있습니다.\n",
    "3. 매개변수를 잘못 할당하거나 등 개발자의 잔실수를 막아주는 것도 덤입니다.\n",
    "\n",
    "<br>\n",
    "\n",
    "## 파이썬 어노테이션을 통한 정적타입 시스템\n",
    "\n",
    "파이썬은 3.5부터 타입어노테이션과 typing을 기반으로 타입이 명시된 파이썬 코드를 작성할 수 있으며 mypy를 통해 정적테스팅을 할 수 있습니다.\n",
    "\n",
    "기존 파이썬에 명시된 int, float, str등의 타입 + typing에 정의된 타입을 기반으로 쓰고, 상수를 나타내는 Final, 정수형을 나타내는 int, 몇 가지 중 하나라는 의미로 Union도 씁니다."
   ],
   "metadata": {
    "collapsed": false
   }
  },
  {
   "cell_type": "code",
   "execution_count": null,
   "outputs": [],
   "source": [
    "TIME_OUT: Final[int] = 10\n",
    "def add(a:int, b:int) -> int:\n",
    "    return a+b\n",
    "\n",
    "def toString(num: Union[int, float]) -> str:\n",
    "    return str(num)"
   ],
   "metadata": {
    "collapsed": false
   }
  },
  {
   "cell_type": "markdown",
   "source": [
    "## mypy\n",
    "\n",
    "파이썬 타입 정적 검사기 모듈 mypy모듈 설치\n",
    "\n",
    "pip install mypy\n",
    "\n",
    "만약, requests모듈을 쓴다면 types-requests도 설치해야 합니다.\n",
    "\n",
    "mypy main.py --namespace-packages:mypy는 일부 모듈을 인식하지 않는 버그가 있으므로 옵션을 적용해서 실행해줍니다.\n",
    "\n",
    "<br>\n",
    "\n",
    "mypy<파일명><옵션>\n",
    "\n",
    "<br>\n",
    "\n",
    ">실제 운영서비스에서 타입어노테이션을 적용하면서 mypy를 통해 여러 가지 오류를 해결할 수 있고 순차적으로 타입적인 에러를 검사하고  고쳐나갈 수 있습니다."
   ],
   "metadata": {
    "collapsed": false
   }
  },
  {
   "cell_type": "code",
   "execution_count": null,
   "outputs": [],
   "source": [
    "\"\"\"\n",
    "coin_dict_list에는 이터러블한 타입이 들어가지 않고 에러를 분기점을 통해서 미리 방지됩니다.\n",
    "\"\"\"\n",
    "coin_dict_list = read_file(\"constant/COIN.txt\")\n",
    "if not coin_dict_list:\n",
    "    print(\"파일에 관한 에러가 발생했습니다.\")\n",
    "    return None\n",
    "for co in coin_dict_list:"
   ],
   "metadata": {
    "collapsed": false
   }
  }
 ],
 "metadata": {
  "kernelspec": {
   "display_name": "Python 3",
   "language": "python",
   "name": "python3"
  },
  "language_info": {
   "codemirror_mode": {
    "name": "ipython",
    "version": 2
   },
   "file_extension": ".py",
   "mimetype": "text/x-python",
   "name": "python",
   "nbconvert_exporter": "python",
   "pygments_lexer": "ipython2",
   "version": "2.7.6"
  }
 },
 "nbformat": 4,
 "nbformat_minor": 0
}
