{
 "cells": [
  {
   "cell_type": "markdown",
   "source": [
    "# 싱글톤 패턴을 구현하는 방법: LazyHolder, DCL, ENUM\n",
    "\n",
    "## 정적 멤버와 Lazy Holder(중첩 클래스)\n",
    "\n",
    "singleInstanceHolder라는 내부 클래스를 하나 더 만듦으로써, Singletone 클래스가 최초에 로딩되더라도 함께 초기화가 도지 않고, getInstance()가 호출될 때 SingleInstanceHolder 클래스가 로딩되어 인스턴스를 생성하게 됩니다.\n",
    "\n",
    "<br>\n",
    "\n",
    "## 이중 확인 잠금(DCL)\n",
    "\n",
    "이중 확인 잠금은 인스턴스 생성 여부를 싱글톤 패턴 잠근 전에 한번, 객체를 생성하기 전에 한 번 2번 체크하면 인스턴스가 존재하지 않을 때만 잠금을 걸 수 있기 때문에 앞서 생겼던 문제점을 해결할 수 있다.\n",
    "\n",
    "<br>\n",
    "\n",
    "### volatile\n",
    "\n",
    ">메인 메모리 위에 CPU 캐시 메모리라고 불리는 L3, L2, L1 캐시가 있고, JAVA에서 스레드가 2개가 열리면 변수를 메인 메모리로부터 가져오는 게 아니라 캐시 메모리에서 각각의 캐시메모리를 기반으로 가져옵니다.\n",
    "그러므로 같은 변수 값 불이치 문제가 발생할 수 있지만, volatile 키워드를 추가하면 Main Memory를 기반으로 저장하고 읽어오기 때문에 이 문제를 해결할 수 있습니다.\n",
    "\n",
    "<br>\n",
    "\n",
    "## enum\n",
    "\n",
    "스레드세이프(thread safe)한 점이 보장되고 생성된다."
   ],
   "metadata": {
    "collapsed": false
   }
  }
 ],
 "metadata": {
  "kernelspec": {
   "display_name": "Python 3",
   "language": "python",
   "name": "python3"
  },
  "language_info": {
   "codemirror_mode": {
    "name": "ipython",
    "version": 2
   },
   "file_extension": ".py",
   "mimetype": "text/x-python",
   "name": "python",
   "nbconvert_exporter": "python",
   "pygments_lexer": "ipython2",
   "version": "2.7.6"
  }
 },
 "nbformat": 4,
 "nbformat_minor": 0
}
