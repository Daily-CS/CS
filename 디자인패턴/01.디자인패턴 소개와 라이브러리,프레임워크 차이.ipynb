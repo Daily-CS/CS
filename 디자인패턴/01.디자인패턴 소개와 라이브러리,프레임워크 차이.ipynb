{
 "cells": [
  {
   "cell_type": "markdown",
   "source": [
    "# 디자인 패턴\n",
    "\n",
    ">프로그램을 설계할 때 발생한 문제점들을 객체간의 상호 관계 등을 이용하여 해결할 수 있도록 하나의 규약 형태\n",
    "\n",
    "JS코드 실행 사이트: https://playcode.io/new\n",
    "JAVA코드 실행사이트: https://www.jdoodle.com/online-java-compiler\n",
    "\n",
    "<br>\n",
    "\n",
    "## 라이브러리\n",
    "\n",
    "공통으로 사용될 수 있는 특정한 기능들을 모듈화한 것으로 폴더면, 파일명에 등에 대한 규칙이 없고 프레임워크에 비해 자유롭다.\n",
    "\n",
    "<br>\n",
    "\n",
    "## 프레임워크\n",
    "\n",
    "공통으로 사용될 수 있는 특정한 기능들을 모듈화한 것으로 폴더명, 파일명 등에 대한 규칙이 있고 라이브러리에 비해 좀 더 엄격함\n",
    "\n"
   ],
   "metadata": {
    "collapsed": false
   }
  },
  {
   "cell_type": "markdown",
   "source": [
    "### axios 라이브러리 사례\n",
    "\n",
    "일정 규칙을 따라야하나 프레임워크보다 자유롭고 다른 라이브러리 등에 넣을 수 있다."
   ],
   "metadata": {
    "collapsed": false
   }
  },
  {
   "cell_type": "code",
   "execution_count": null,
   "outputs": [],
   "source": [
    "\"\"\"\n",
    "#axios로 get요청을 하려면 .get() 그리고 그 이후에 콜백함수 처리는 .then(callback) 등으로 해야 한다는 일정한 규칙이 있다.\n",
    "\n",
    "axios.get('/user?ID=12345')\n",
    "    .then(function (response) {\n",
    "        // handle success\n",
    "        console.log(response);\n",
    "})\n",
    ".catch(function (error) {\n",
    "    // handle error\n",
    "    console.log(error);\n",
    "})\n",
    ".then(function () {\n",
    "    // always executed\n",
    "});\n",
    "\"\"\""
   ],
   "metadata": {
    "collapsed": false
   }
  },
  {
   "cell_type": "markdown",
   "source": [
    "### Vue.js\n",
    "\n",
    "규칙이 있긴 하나 라이브러리보단 좀 더 엄격한 프레임워크이고 많은 것들을 제공함"
   ],
   "metadata": {
    "collapsed": false
   }
  },
  {
   "cell_type": "markdown",
   "source": [
    "\"\"\"\n",
    "<script>\n",
    "    export default {\n",
    "        data() {\n",
    "            return {\n",
    "                count: 0\n",
    "            }\n",
    "        }\n",
    "    }\n",
    "</script>\n",
    "\n",
    "<template>\n",
    "    <button @click = \"coun++\"> Count is: {{ count }}</button>\n",
    "</template>\n",
    "\n",
    "<style scoped>\n",
    "    button {\n",
    "        font-weight: bold'\n",
    "    }\n",
    "</style>\n",
    "\"\"\""
   ],
   "metadata": {
    "collapsed": false
   }
  },
  {
   "cell_type": "markdown",
   "source": [
    "위의 코드를 보면 count라는 변수를 ++하기 위해서 date(){ 메서드 안에 변수를 선언해야 한다는 규칙등이 있고, style을 보면 Scoped라는 것을 통해서 해당 컴포넌트기반에서만 종속"
   ],
   "metadata": {
    "collapsed": false
   }
  },
  {
   "cell_type": "raw",
   "source": [],
   "metadata": {
    "collapsed": false
   }
  }
 ],
 "metadata": {
  "kernelspec": {
   "display_name": "Python 3",
   "language": "python",
   "name": "python3"
  },
  "language_info": {
   "codemirror_mode": {
    "name": "ipython",
    "version": 2
   },
   "file_extension": ".py",
   "mimetype": "text/x-python",
   "name": "python",
   "nbconvert_exporter": "python",
   "pygments_lexer": "ipython2",
   "version": "2.7.6"
  }
 },
 "nbformat": 4,
 "nbformat_minor": 0
}
