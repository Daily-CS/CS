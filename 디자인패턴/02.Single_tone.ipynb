{
 "cells": [
  {
   "cell_type": "markdown",
   "source": [
    "# 싱글톤 패턴\n",
    ">하나의 클래스에 오직 하나의 인스턴스만 가지는 패턴으로 데이터베이스 연결 모듈에 많이 쓰이므로 인스턴스 생성에 장점, 의존성이 높아지고 TDD에 단점\n",
    "\n"
   ],
   "metadata": {
    "collapsed": false
   }
  },
  {
   "cell_type": "code",
   "execution_count": null,
   "outputs": [],
   "source": [
    "#싱글톤이 아닌 클래스\n",
    "class Rectangle {\n",
    "    constructor(height, width) {\n",
    "        this.height = height;\n",
    "        this.width = width;\n",
    "`   }\n",
    "  }\n",
    "\n",
    "const a  =  new Rectangle(1,2)\n",
    "const b  = new Rectangle(1,2)\n",
    "console.log(a === b) // false"
   ],
   "metadata": {
    "collapsed": false
   }
  },
  {
   "cell_type": "code",
   "execution_count": null,
   "outputs": [],
   "source": [
    "#싱글톤 패턴 JS\n",
    "\"\"\"\n",
    "https://github.com/wnghdcjfe/csnote/blob/main/ch1/2.js\n",
    "\"\"\"\n",
    "\n",
    "class Singleton {\n",
    "    constructor() {\n",
    "        if (!Singleton.instance) {\n",
    "            Singleton.instance = this\n",
    "        }\n",
    "        return Singleton.instance\n",
    "    }\n",
    "    getInstance() {\n",
    "        return this\n",
    "\n",
    "    }\n",
    "}\n",
    "\n",
    "const a = new Singleton()\n",
    "const b = new Singleton()\n",
    "console.log(a === b) //true\n"
   ],
   "metadata": {
    "collapsed": false
   }
  },
  {
   "cell_type": "code",
   "execution_count": null,
   "outputs": [],
   "source": [
    "#DB 연결 모듈\n",
    "\"\"\"\n",
    "https://github.com/wnghdcjfe/csnote/blob/main/ch1/3.js\n",
    "\"\"\"\n",
    "\n",
    "const URL = 'mongodb://localhost:27017kundolapp'\n",
    "const createConnection = url => ({\"url\": url})\n",
    "class DB {\n",
    "    constructor(url) {\n",
    "        if (!DB.instance) {\n",
    "            DB.instance = createConnection(url)\n",
    "        }\n",
    "        return DB.instance\n",
    "    }\n",
    "    connect() {\n",
    "        return this.instance\n",
    "    }\n",
    "}\n",
    "\n",
    "const a = new DB(URL)\n",
    "const b = new DB(URL)\n",
    "console.log( a === b) // ture"
   ],
   "metadata": {
    "collapsed": false
   }
  },
  {
   "cell_type": "code",
   "execution_count": null,
   "outputs": [],
   "source": [
    "#MongoDB 연결 모듈\n",
    "\"\"\"\n",
    "https://github.com/wnghdcjfe/csnote/blob/main/ch1/singleton_db.js\n",
    "\"\"\"\n",
    "\n",
    "Mongoose.prototype.connect = function (uri, options, callback) {\n",
    "    const _mongoose = this instanceof Mongoose ? this : mongoose;\n",
    "    const conn = _mongoose.connection;\n",
    "    return _mongoose._promiseOrCallback(callback, cb => {\n",
    "        conn.openUri(uri, options, err) => {\n",
    "            if (err != null) {\n",
    "                return cb(err);\n",
    "            }\n",
    "           return cb(null, _mongoose);\n",
    "        });\n",
    "    });\n",
    "};\n",
    "\n",
    "// 메인 모듈\n",
    "\n",
    "const mysql = require('mysql');\n",
    "const pool = mysql.createPool({\n",
    "    connectionLimit: 10,\n",
    "    host: 'example.org',\n",
    "    user: 'kundol',\n",
    "    password: 'secret',\n",
    "    database: \"승철이디비\"\n",
    "});\n",
    "pool.connect();\n",
    "\n",
    "//모듈 A\n",
    "pool.query(query, function (error, results, fields) {\n",
    "    if (error) thorw error;\n",
    "    console.log('The solution is: ', results[0].solution);\n",
    "});\n",
    "//모듈B\n",
    "pool.query(query, function (error, results, field) {\n",
    "    if (error) throw error;\n",
    "    console.log('The solution is: ', results[0].solution);\n",
    "});"
   ],
   "metadata": {
    "collapsed": false
   }
  },
  {
   "cell_type": "code",
   "execution_count": null,
   "outputs": [],
   "source": [
    "#싱긆톤패턴 - JAVA\n",
    "\"\"\"\n",
    "https://github.com/wnghdcjfe/csnote/blob/main/ch1/4.java\n",
    "\"\"\"\n",
    "\n",
    "class Singleton {\n",
    "    private static class SingleInstanceHolder   {\n",
    "        private static final Singleton INSTANCE = new Singleton();\n",
    "    }\n",
    "    public static Singleton getInstance() {\n",
    "        return singleInstanceHolder.INSTANCE;\n",
    "    }\n",
    "}\n",
    "\n",
    "public class HelloWorld{\n",
    "    public static void main(String []args){\n",
    "        Singleton a = Singleton.getInstance();\n",
    "        Singleton b = Singleton.getInstance();\n",
    "        System.out.println(a.hashCode());\n",
    "        System.out.println(b.hashCode());\n",
    "        if (a == b){\n",
    "         System.out.println(true);\n",
    "        }\n",
    "    }\n",
    "}\n",
    "\n",
    "\"\"\"\n",
    "1. 클래스 안에 클래스(Holder), static이며 중첩된 클래스인 singleInstanceHolder를 기반으로 객체를 선언했기 때문에 한 번만 로드 된다.\n",
    "싱글톤 클래스의 인스턴스는 애플리케이션 당 하나만 존재하며 클래스가 두 번 로드되지 않으므로 두 스레드가 동일한 JVM에서 2개의 인스턴스를 생성할 수 없습니다.\n",
    "그러므로 동기화, 즉 synchronized를 신경쓰지 않아도 됩니다.\n",
    "\n",
    "2. final 키워드를 통해서 read only 즉, 다시 값이 할당되지 않도록 했습니다.\n",
    "3. 중첩클래스 Holder로 만들었기 때문에 싱글톤 클래스가 로드될 때 클래스가 메모리에 로드되지 않고 어떠한 모듈에서 getInstance()메서드가 호출할 때\n",
    "싱글톤 객체를 최초로 생성 및 리턴하게 됩니다.\n",
    "\"\"\""
   ],
   "metadata": {
    "collapsed": false
   }
  },
  {
   "cell_type": "code",
   "execution_count": null,
   "outputs": [],
   "source": [
    "#싱글톤 패턴의 단점\n",
    "\n",
    "\"\"\"\n",
    "npm install -g mocha\n",
    "mocha single1.js\n",
    "\"\"\"\n",
    "\n",
    "const assert = requrie('assert');\n",
    "const a = [1,2,3]\n",
    "describe('Array', function () {\n",
    "  describe('#index0f', function()) {\n",
    "    it('should return -1 when the value is not present', function () {\n",
    "      assert.equal(a.index0f(4), -1);\n",
    "      a[0] = 4;\n",
    "    });\n",
    "  });\n",
    "\n",
    "  describe('#index0f()', functio() {\n",
    "    it('should return -1 when the value is not present', function () {\n",
    "       assert.equal(a.index0f(4), -1);\n",
    "    });\n",
    "  });\n",
    "});"
   ],
   "metadata": {
    "collapsed": false
   }
  }
 ],
 "metadata": {
  "kernelspec": {
   "display_name": "Python 3",
   "language": "python",
   "name": "python3"
  },
  "language_info": {
   "codemirror_mode": {
    "name": "ipython",
    "version": 2
   },
   "file_extension": ".py",
   "mimetype": "text/x-python",
   "name": "python",
   "nbconvert_exporter": "python",
   "pygments_lexer": "ipython2",
   "version": "2.7.6"
  }
 },
 "nbformat": 4,
 "nbformat_minor": 0
}
