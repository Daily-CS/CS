{
 "cells": [
  {
   "cell_type": "markdown",
   "source": [
    "## 싱글톤 패턴을 구현하는 7가지 방법 # 1. 기본, synchronized, static\n",
    "\n",
    ">면접에서 디자인패턴이 나와도 개념 정도의 질문이지 구현은 나오지 않지만 자바 개발자 혹은 그 외 개발자라도 개념은 아는 게 좋다.\n",
    "\n",
    "<br>\n",
    "\n",
    "### 단순한 메서드 호출\n",
    "\n",
    "싱글톤 패턴 생성 여부를 확인하고 싱글톤이 없으면 새로 만들고 있다면 만들어진 인스턴스를 반환합니다.\n",
    "\n",
    "허나, 이 코드는 메서드의 원자성이 결여되었고, 멀티스레드 환경에선 싱글톤 인스턴스를 2개 이상 만들 수 있습니다.\n",
    "\n",
    "<br>\n",
    "\n",
    "### Synchronized\n",
    "\n",
    "인스턴스를 반환하기 전까지 격리 공간에 놓기 위해 synchronized 키워드로 잠근을 할 수 있습니다. 최초로 접근한 스레드가 해당 메서드 호출 시에 다른 스레드가 접근하지 못하도록 잠금을 걸어줍니다.\n",
    "\n",
    "이때, getInstance() 메서드를 호출할 때마다 lock이 걸려 성능 저하가 되고, 인스턴스가 만들어졌는데도 getInstance()는 호출이 가능하니 해당 부분도 좋지 않다.\n",
    "\n",
    "<br>\n",
    "\n",
    "### 정적 멤버(static)\n",
    "\n",
    "정적 멤버나 블록은 런타임이 아니라 최초에 JVM이 클래스 로딩 때 모든 클래스들을 로드할 때 미리 인스턴스를 생성하는데 이를 이용하는 방법으로 클래스 로딩과 동시에 싱글톤 인스턴스를 만듭니다.\n",
    "\n",
    "그러므로, 모듈들이 싱글톤 인스턴스를 요청할 때 그냥 만들어진 인스턴스를 반환하면 되는 것이지만 이는 불필요한 자원 낭비라는 문제가 있습니다.\n",
    "\n",
    "왜냐하면, 승글톤 인스턴스가 필요없는 경우도 무조건 싱글톤 클래스를 호출해 인스턴스를 만들어야 하기 때문입니다.\n",
    "\n",
    "<br>\n",
    "\n",
    "### 정적 블록(static)을 사용해도 된다."
   ],
   "metadata": {
    "collapsed": false
   }
  }
 ],
 "metadata": {
  "kernelspec": {
   "display_name": "Python 3",
   "language": "python",
   "name": "python3"
  },
  "language_info": {
   "codemirror_mode": {
    "name": "ipython",
    "version": 2
   },
   "file_extension": ".py",
   "mimetype": "text/x-python",
   "name": "python",
   "nbconvert_exporter": "python",
   "pygments_lexer": "ipython2",
   "version": "2.7.6"
  }
 },
 "nbformat": 4,
 "nbformat_minor": 0
}
